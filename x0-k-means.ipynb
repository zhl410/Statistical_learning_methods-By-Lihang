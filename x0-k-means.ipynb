{
 "cells": [
  {
   "cell_type": "code",
   "execution_count": null,
   "metadata": {},
   "outputs": [],
   "source": [
    "import numpy as np\n",
    "import pandas as pd\n",
    "import matplotlib.pyplot as plt"
   ]
  },
  {
   "cell_type": "code",
   "execution_count": null,
   "metadata": {},
   "outputs": [],
   "source": [
    "def distance_measure(x, mu, measure='Euclidean'):\n",
    "    # x = np.atleast_2d(x)\n",
    "   # mu = np.atleast_2d(mu)\n",
    "    if measure == 'Euclidean':\n",
    "        return np.sum((x[:,np.newaxis]-mu)**2, axis=-1)\n",
    "    if measure == 'Manhattan':\n",
    "        return np.sum(np.abs(x[:, np.newaxis]-mu), axis=-1)\n",
    "    if measure == 'Cosine_Similarity':\n",
    "        x_norm = np.sqrt(np.sum(x**2, keepdims=True, axis=-1))\n",
    "        mu_norm = np.sqrt(np.sum(mu**2, keepdims=True, axis=-1))\n",
    "        return np.dot(x, mu.T) / np.dot(x_norm, mu_norm.T)\n",
    "    "
   ]
  },
  {
   "cell_type": "code",
   "execution_count": null,
   "metadata": {},
   "outputs": [],
   "source": [
    "\"\"\"\n",
    "1) Implement the k-means clustering algorithm with Euclidean distance to cluster the instances\n",
    "into k clusters.\n",
    "\"\"\"\n",
    "\n",
    "def my_kmeans(x,  k=4, measure='Euclidean'):\n",
    "    \"\"\"\n",
    "   k: the number of centres\n",
    "    \n",
    "    \"\"\"\n",
    "    #  n:number of of sample, m: number of sample feature\n",
    "    n, m = x.shape\n",
    "    old_clusters_dict, clusters_dict = {}, {}\n",
    "    # 1. Set k instances from the dataset randomly. (initial cluster centers)\n",
    "    centres = np.random.permutation(np.arange(n))[:k]\n",
    "    # get the centres\n",
    "    mu = x[centres]\n",
    "    maxiter_num = 100\n",
    "    iter_num = 0\n",
    "    while (clusters_dict == {} or old_clusters_dict != clusters_dict) and iter_num<maxiter_num:\n",
    "        old_clusters_dict = clusters_dict\n",
    "        clusters_dict = {}\n",
    "        # caculate the distance, distance shape: n x k\n",
    "        distance = distance_measure(x, mu,  measure)\n",
    "        if measure == 'Cosine_Similarity':\n",
    "            clusters = np.argmax(distance, axis=-1)\n",
    "        else:\n",
    "            clusters = np.argmin(distance, axis=-1)\n",
    "        # 2. Assign all other instances to the closest cluster centre.\n",
    "        for i in range(k):\n",
    "            clusters_dict[i] = []\n",
    "        for (idx, cluster)  in enumerate(clusters):\n",
    "            clusters_dict[cluster].append(idx)\n",
    "        # 3. Compute the mean of each cluster\n",
    "        for cluster in range(k):\n",
    "            mu[cluster] = np.mean(x[clusters_dict[cluster]], axis=0)\n",
    "        iter_num += 1\n",
    "    # 4. until convergence repeat between steps 2 and 3\n",
    "    return clusters_dict"
   ]
  },
  {
   "cell_type": "code",
   "execution_count": null,
   "metadata": {},
   "outputs": [],
   "source": [
    "\n",
    "#tp, fn, fp, tn, tp_fp, tn_fn = 6 * [np.zeros(10, dtype='int')]\n",
    "def get_PRF(x, xclass, measure='Euclidean'):\n",
    "    tp = np.zeros(10)\n",
    "    fn = np.zeros(10)\n",
    "    fp   = np.zeros(10)\n",
    "    tn   = np.zeros(10)\n",
    "    tp_fp   = np.zeros(10)\n",
    "    tn_fn  = np.zeros(10)\n",
    "    num_class = 4\n",
    "    for k in range(1, 11):\n",
    "        cluster_class = np.zeros((k, num_class))\n",
    "        xcluster = my_kmeans(x, k, measure=measure)\n",
    "\n",
    "        for id_cluster in range(k):\n",
    "            for item in xcluster[id_cluster]:\n",
    "                id_class = xclass[item]\n",
    "                cluster_class[id_cluster][id_class] += 1\n",
    "       # print(cluster_class)\n",
    "        same_cluster = np.sum(cluster_class, axis=-1)\n",
    "\n",
    "        tp_fp[k-1] = np.sum((same_cluster - 1) * same_cluster / 2)\n",
    "        tp[k-1] = np.sum((cluster_class - 1)* cluster_class / 2)\n",
    "        fp[k-1] = tp_fp[k-1] - tp[k-1]\n",
    "\n",
    "        for id_cluster1 in range(k):\n",
    "            for id_cluster2 in range (id_cluster1, k):\n",
    "                tn_fn[k-1] += same_cluster[id_cluster1] * same_cluster[id_cluster2]\n",
    "\n",
    "        for id_class in range(num_class):\n",
    "            for id_cluster in range(1,k):\n",
    "                fn[k-1] += cluster_class[id_cluster][id_class]* cluster_class[id_cluster-1][id_class]\n",
    "        tn[k-1] = tn_fn[k-1] - fn[k-1] \n",
    "\n",
    "    precision = tp / (tp + fp)\n",
    "    recall = tp / (tp + fn)\n",
    "    fscore = (2 * precision * recall) / (precision + recall)\n",
    "    return precision, recall, fscore"
   ]
  }
 ],
 "metadata": {
  "kernelspec": {
   "display_name": "Python 3",
   "language": "python",
   "name": "python3"
  },
  "language_info": {
   "codemirror_mode": {
    "name": "ipython",
    "version": 3
   },
   "file_extension": ".py",
   "mimetype": "text/x-python",
   "name": "python",
   "nbconvert_exporter": "python",
   "pygments_lexer": "ipython3",
   "version": "3.7.0"
  }
 },
 "nbformat": 4,
 "nbformat_minor": 2
}
